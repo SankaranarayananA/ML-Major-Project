{
  "nbformat": 4,
  "nbformat_minor": 0,
  "metadata": {
    "colab": {
      "name": "MajorProject.ipynb",
      "provenance": [],
      "collapsed_sections": [],
      "toc_visible": true,
      "authorship_tag": "ABX9TyMO+Wmq+rjOTo/rSuIaUNi4",
      "include_colab_link": true
    },
    "kernelspec": {
      "name": "python3",
      "display_name": "Python 3"
    },
    "language_info": {
      "name": "python"
    }
  },
  "cells": [
    {
      "cell_type": "markdown",
      "metadata": {
        "id": "view-in-github",
        "colab_type": "text"
      },
      "source": [
        "<a href=\"https://colab.research.google.com/github/SankaranarayananA/ML-Major-Project/blob/main/MajorProject.ipynb\" target=\"_parent\"><img src=\"https://colab.research.google.com/assets/colab-badge.svg\" alt=\"Open In Colab\"/></a>"
      ]
    },
    {
      "cell_type": "code",
      "metadata": {
        "id": "TN7QlDrokLff"
      },
      "source": [
        ""
      ],
      "execution_count": null,
      "outputs": []
    },
    {
      "cell_type": "markdown",
      "metadata": {
        "id": "BOLvvY9YDfyC"
      },
      "source": [
        "### **Goal**: Create a model by given text data and perform a better guess of the sentiments by choosing  highest probable sentiment."
      ]
    },
    {
      "cell_type": "markdown",
      "metadata": {
        "id": "k5M1fk8IIFpE"
      },
      "source": [
        "## Downloading and Unzipping data\n"
      ]
    },
    {
      "cell_type": "code",
      "metadata": {
        "colab": {
          "base_uri": "https://localhost:8080/"
        },
        "id": "EatGYD76IRrW",
        "outputId": "c9c8de60-6cfb-4c13-ef3b-6d7d09e89bb1"
      },
      "source": [
        "!wget https://codeload.github.com/SankaranarayananA/ML-Major-Project/zip/refs/heads/main"
      ],
      "execution_count": 3,
      "outputs": [
        {
          "output_type": "stream",
          "text": [
            "--2021-05-06 16:19:17--  https://codeload.github.com/SankaranarayananA/ML-Major-Project/zip/refs/heads/main\n",
            "Resolving codeload.github.com (codeload.github.com)... 140.82.114.9\n",
            "Connecting to codeload.github.com (codeload.github.com)|140.82.114.9|:443... connected.\n",
            "HTTP request sent, awaiting response... 200 OK\n",
            "Length: unspecified [application/zip]\n",
            "Saving to: ‘main’\n",
            "\n",
            "\rmain                    [<=>                 ]       0  --.-KB/s               \rmain                    [ <=>                ] 146.32K  --.-KB/s    in 0.01s   \n",
            "\n",
            "2021-05-06 16:19:17 (12.0 MB/s) - ‘main’ saved [149830]\n",
            "\n"
          ],
          "name": "stdout"
        }
      ]
    },
    {
      "cell_type": "code",
      "metadata": {
        "colab": {
          "base_uri": "https://localhost:8080/"
        },
        "id": "SNzgVN_8Ioa8",
        "outputId": "1f29bc95-2a15-4a19-dd1f-287211b7c8b2"
      },
      "source": [
        "!unzip /content/main"
      ],
      "execution_count": 4,
      "outputs": [
        {
          "output_type": "stream",
          "text": [
            "Archive:  /content/main\n",
            "c0816831e617be1dd89d94e844f50b0254bc20b9\n",
            "   creating: ML-Major-Project-main/\n",
            "  inflating: ML-Major-Project-main/Webapp.png  \n",
            "   creating: ML-Major-Project-main/data/\n",
            "  inflating: ML-Major-Project-main/data/amazon_cells_labelled.txt  \n",
            "  inflating: ML-Major-Project-main/data/imdb_labelled.txt  \n",
            "  inflating: ML-Major-Project-main/data/readme.txt  \n",
            "  inflating: ML-Major-Project-main/data/yelp_labelled.txt  \n"
          ],
          "name": "stdout"
        }
      ]
    },
    {
      "cell_type": "markdown",
      "metadata": {
        "id": "tnVZJlTmBG81"
      },
      "source": [
        "## **Importing Datasets**"
      ]
    },
    {
      "cell_type": "markdown",
      "metadata": {
        "id": "HJytQpWkEook"
      },
      "source": [
        "**Yelp.txt**"
      ]
    },
    {
      "cell_type": "code",
      "metadata": {
        "id": "V52k4Gei_0G3",
        "colab": {
          "base_uri": "https://localhost:8080/",
          "height": 195
        },
        "outputId": "6b8e27dc-f498-469c-fe59-5694e5e19332"
      },
      "source": [
        "import numpy as np\n",
        "import pandas as pd\n",
        "import matplotlib.pyplot as plt\n",
        "\n",
        "\n",
        "dty= pd.read_csv('/content/ML-Major-Project-main/data/yelp_labelled.txt',sep='\\t',header=None)\n",
        "\n",
        "dty.head()\n",
        "# review and sentiment\n",
        "# 0-> negative\n",
        "# 1-> positive review\n"
      ],
      "execution_count": 3,
      "outputs": [
        {
          "output_type": "execute_result",
          "data": {
            "text/html": [
              "<div>\n",
              "<style scoped>\n",
              "    .dataframe tbody tr th:only-of-type {\n",
              "        vertical-align: middle;\n",
              "    }\n",
              "\n",
              "    .dataframe tbody tr th {\n",
              "        vertical-align: top;\n",
              "    }\n",
              "\n",
              "    .dataframe thead th {\n",
              "        text-align: right;\n",
              "    }\n",
              "</style>\n",
              "<table border=\"1\" class=\"dataframe\">\n",
              "  <thead>\n",
              "    <tr style=\"text-align: right;\">\n",
              "      <th></th>\n",
              "      <th>0</th>\n",
              "      <th>1</th>\n",
              "    </tr>\n",
              "  </thead>\n",
              "  <tbody>\n",
              "    <tr>\n",
              "      <th>0</th>\n",
              "      <td>Wow... Loved this place.</td>\n",
              "      <td>1</td>\n",
              "    </tr>\n",
              "    <tr>\n",
              "      <th>1</th>\n",
              "      <td>Crust is not good.</td>\n",
              "      <td>0</td>\n",
              "    </tr>\n",
              "    <tr>\n",
              "      <th>2</th>\n",
              "      <td>Not tasty and the texture was just nasty.</td>\n",
              "      <td>0</td>\n",
              "    </tr>\n",
              "    <tr>\n",
              "      <th>3</th>\n",
              "      <td>Stopped by during the late May bank holiday of...</td>\n",
              "      <td>1</td>\n",
              "    </tr>\n",
              "    <tr>\n",
              "      <th>4</th>\n",
              "      <td>The selection on the menu was great and so wer...</td>\n",
              "      <td>1</td>\n",
              "    </tr>\n",
              "  </tbody>\n",
              "</table>\n",
              "</div>"
            ],
            "text/plain": [
              "                                                   0  1\n",
              "0                           Wow... Loved this place.  1\n",
              "1                                 Crust is not good.  0\n",
              "2          Not tasty and the texture was just nasty.  0\n",
              "3  Stopped by during the late May bank holiday of...  1\n",
              "4  The selection on the menu was great and so wer...  1"
            ]
          },
          "metadata": {
            "tags": []
          },
          "execution_count": 3
        }
      ]
    },
    {
      "cell_type": "markdown",
      "metadata": {
        "id": "g_DFYQgCClca"
      },
      "source": [
        "Assign Columns Name "
      ]
    },
    {
      "cell_type": "code",
      "metadata": {
        "colab": {
          "base_uri": "https://localhost:8080/",
          "height": 195
        },
        "id": "CBBA3OfpCioW",
        "outputId": "2f65d3ca-0360-4070-f1f2-79859f7e95e7"
      },
      "source": [
        "col_nm=['Review','Sentiment']\n",
        "dty.columns = col_nm\n",
        "dty.head()\n",
        "# dty.shape"
      ],
      "execution_count": 4,
      "outputs": [
        {
          "output_type": "execute_result",
          "data": {
            "text/html": [
              "<div>\n",
              "<style scoped>\n",
              "    .dataframe tbody tr th:only-of-type {\n",
              "        vertical-align: middle;\n",
              "    }\n",
              "\n",
              "    .dataframe tbody tr th {\n",
              "        vertical-align: top;\n",
              "    }\n",
              "\n",
              "    .dataframe thead th {\n",
              "        text-align: right;\n",
              "    }\n",
              "</style>\n",
              "<table border=\"1\" class=\"dataframe\">\n",
              "  <thead>\n",
              "    <tr style=\"text-align: right;\">\n",
              "      <th></th>\n",
              "      <th>Review</th>\n",
              "      <th>Sentiment</th>\n",
              "    </tr>\n",
              "  </thead>\n",
              "  <tbody>\n",
              "    <tr>\n",
              "      <th>0</th>\n",
              "      <td>Wow... Loved this place.</td>\n",
              "      <td>1</td>\n",
              "    </tr>\n",
              "    <tr>\n",
              "      <th>1</th>\n",
              "      <td>Crust is not good.</td>\n",
              "      <td>0</td>\n",
              "    </tr>\n",
              "    <tr>\n",
              "      <th>2</th>\n",
              "      <td>Not tasty and the texture was just nasty.</td>\n",
              "      <td>0</td>\n",
              "    </tr>\n",
              "    <tr>\n",
              "      <th>3</th>\n",
              "      <td>Stopped by during the late May bank holiday of...</td>\n",
              "      <td>1</td>\n",
              "    </tr>\n",
              "    <tr>\n",
              "      <th>4</th>\n",
              "      <td>The selection on the menu was great and so wer...</td>\n",
              "      <td>1</td>\n",
              "    </tr>\n",
              "  </tbody>\n",
              "</table>\n",
              "</div>"
            ],
            "text/plain": [
              "                                              Review  Sentiment\n",
              "0                           Wow... Loved this place.          1\n",
              "1                                 Crust is not good.          0\n",
              "2          Not tasty and the texture was just nasty.          0\n",
              "3  Stopped by during the late May bank holiday of...          1\n",
              "4  The selection on the menu was great and so wer...          1"
            ]
          },
          "metadata": {
            "tags": []
          },
          "execution_count": 4
        }
      ]
    },
    {
      "cell_type": "markdown",
      "metadata": {
        "id": "R7qYnoe6EtNc"
      },
      "source": [
        "**Amazon.txt**"
      ]
    },
    {
      "cell_type": "code",
      "metadata": {
        "id": "i7Uq5z0VF-DO",
        "colab": {
          "base_uri": "https://localhost:8080/",
          "height": 195
        },
        "outputId": "df27be3b-5e09-4d89-f568-d63b81713fa7"
      },
      "source": [
        "dta= pd.read_csv('/content/ML-Major-Project-main/data/amazon_cells_labelled.txt',sep='\\t',header=None)\n",
        "# review and sentiment\n",
        "# 0->negative, 1-> positive for positive review\n",
        "dta.head()"
      ],
      "execution_count": 5,
      "outputs": [
        {
          "output_type": "execute_result",
          "data": {
            "text/html": [
              "<div>\n",
              "<style scoped>\n",
              "    .dataframe tbody tr th:only-of-type {\n",
              "        vertical-align: middle;\n",
              "    }\n",
              "\n",
              "    .dataframe tbody tr th {\n",
              "        vertical-align: top;\n",
              "    }\n",
              "\n",
              "    .dataframe thead th {\n",
              "        text-align: right;\n",
              "    }\n",
              "</style>\n",
              "<table border=\"1\" class=\"dataframe\">\n",
              "  <thead>\n",
              "    <tr style=\"text-align: right;\">\n",
              "      <th></th>\n",
              "      <th>0</th>\n",
              "      <th>1</th>\n",
              "    </tr>\n",
              "  </thead>\n",
              "  <tbody>\n",
              "    <tr>\n",
              "      <th>0</th>\n",
              "      <td>So there is no way for me to plug it in here i...</td>\n",
              "      <td>0</td>\n",
              "    </tr>\n",
              "    <tr>\n",
              "      <th>1</th>\n",
              "      <td>Good case, Excellent value.</td>\n",
              "      <td>1</td>\n",
              "    </tr>\n",
              "    <tr>\n",
              "      <th>2</th>\n",
              "      <td>Great for the jawbone.</td>\n",
              "      <td>1</td>\n",
              "    </tr>\n",
              "    <tr>\n",
              "      <th>3</th>\n",
              "      <td>Tied to charger for conversations lasting more...</td>\n",
              "      <td>0</td>\n",
              "    </tr>\n",
              "    <tr>\n",
              "      <th>4</th>\n",
              "      <td>The mic is great.</td>\n",
              "      <td>1</td>\n",
              "    </tr>\n",
              "  </tbody>\n",
              "</table>\n",
              "</div>"
            ],
            "text/plain": [
              "                                                   0  1\n",
              "0  So there is no way for me to plug it in here i...  0\n",
              "1                        Good case, Excellent value.  1\n",
              "2                             Great for the jawbone.  1\n",
              "3  Tied to charger for conversations lasting more...  0\n",
              "4                                  The mic is great.  1"
            ]
          },
          "metadata": {
            "tags": []
          },
          "execution_count": 5
        }
      ]
    },
    {
      "cell_type": "markdown",
      "metadata": {
        "id": "C7B-Frx_GnF7"
      },
      "source": [
        "Assign Columns Name "
      ]
    },
    {
      "cell_type": "code",
      "metadata": {
        "colab": {
          "base_uri": "https://localhost:8080/"
        },
        "id": "wLw52cMyGp8D",
        "outputId": "03b1c248-54cd-4157-bad6-7da863687f9b"
      },
      "source": [
        "col_nm = ['Review','Sentiment']\n",
        "dta.columns = col_nm\n",
        "dta.head()\n",
        "dta.shape"
      ],
      "execution_count": 6,
      "outputs": [
        {
          "output_type": "execute_result",
          "data": {
            "text/plain": [
              "(1000, 2)"
            ]
          },
          "metadata": {
            "tags": []
          },
          "execution_count": 6
        }
      ]
    },
    {
      "cell_type": "markdown",
      "metadata": {
        "id": "fiVycxU2G8id"
      },
      "source": [
        "**IMDB.txt**"
      ]
    },
    {
      "cell_type": "code",
      "metadata": {
        "colab": {
          "base_uri": "https://localhost:8080/",
          "height": 195
        },
        "id": "oc-h-8vrHzCe",
        "outputId": "22643096-2e4f-435f-b601-5c5c4400452b"
      },
      "source": [
        "dtim= pd.read_csv('/content/ML-Major-Project-main/data/imdb_labelled.txt',sep='\\t',header=None)\n",
        "# review and sentiment\n",
        "# 0->negative, 1-> positive for positive review\n",
        "dtim.head()"
      ],
      "execution_count": 7,
      "outputs": [
        {
          "output_type": "execute_result",
          "data": {
            "text/html": [
              "<div>\n",
              "<style scoped>\n",
              "    .dataframe tbody tr th:only-of-type {\n",
              "        vertical-align: middle;\n",
              "    }\n",
              "\n",
              "    .dataframe tbody tr th {\n",
              "        vertical-align: top;\n",
              "    }\n",
              "\n",
              "    .dataframe thead th {\n",
              "        text-align: right;\n",
              "    }\n",
              "</style>\n",
              "<table border=\"1\" class=\"dataframe\">\n",
              "  <thead>\n",
              "    <tr style=\"text-align: right;\">\n",
              "      <th></th>\n",
              "      <th>0</th>\n",
              "      <th>1</th>\n",
              "    </tr>\n",
              "  </thead>\n",
              "  <tbody>\n",
              "    <tr>\n",
              "      <th>0</th>\n",
              "      <td>A very, very, very slow-moving, aimless movie ...</td>\n",
              "      <td>0</td>\n",
              "    </tr>\n",
              "    <tr>\n",
              "      <th>1</th>\n",
              "      <td>Not sure who was more lost - the flat characte...</td>\n",
              "      <td>0</td>\n",
              "    </tr>\n",
              "    <tr>\n",
              "      <th>2</th>\n",
              "      <td>Attempting artiness with black &amp; white and cle...</td>\n",
              "      <td>0</td>\n",
              "    </tr>\n",
              "    <tr>\n",
              "      <th>3</th>\n",
              "      <td>Very little music or anything to speak of.</td>\n",
              "      <td>0</td>\n",
              "    </tr>\n",
              "    <tr>\n",
              "      <th>4</th>\n",
              "      <td>The best scene in the movie was when Gerardo i...</td>\n",
              "      <td>1</td>\n",
              "    </tr>\n",
              "  </tbody>\n",
              "</table>\n",
              "</div>"
            ],
            "text/plain": [
              "                                                   0  1\n",
              "0  A very, very, very slow-moving, aimless movie ...  0\n",
              "1  Not sure who was more lost - the flat characte...  0\n",
              "2  Attempting artiness with black & white and cle...  0\n",
              "3       Very little music or anything to speak of.    0\n",
              "4  The best scene in the movie was when Gerardo i...  1"
            ]
          },
          "metadata": {
            "tags": []
          },
          "execution_count": 7
        }
      ]
    },
    {
      "cell_type": "markdown",
      "metadata": {
        "id": "us9rQZGuIG9v"
      },
      "source": [
        "Assign Columns Name"
      ]
    },
    {
      "cell_type": "code",
      "metadata": {
        "colab": {
          "base_uri": "https://localhost:8080/"
        },
        "id": "tV1MWVP5ILOE",
        "outputId": "d6536cc1-5a99-4782-ac41-0cbb7fc644af"
      },
      "source": [
        "col_nm = ['Review','Sentiment']\n",
        "dtim.columns = col_nm\n",
        "dtim.head()\n",
        "dtim.shape"
      ],
      "execution_count": 8,
      "outputs": [
        {
          "output_type": "execute_result",
          "data": {
            "text/plain": [
              "(748, 2)"
            ]
          },
          "metadata": {
            "tags": []
          },
          "execution_count": 8
        }
      ]
    },
    {
      "cell_type": "markdown",
      "metadata": {
        "id": "nVB91-5kIzeM"
      },
      "source": [
        "### **Mega DataSet** \n",
        "Adding sets all in one set(yelp <- amazon <- imdb)"
      ]
    },
    {
      "cell_type": "code",
      "metadata": {
        "id": "Eo8bhin4JPiI"
      },
      "source": [
        "data = dty.append([dta,dtim],ignore_index=True)\n"
      ],
      "execution_count": 9,
      "outputs": []
    },
    {
      "cell_type": "code",
      "metadata": {
        "colab": {
          "base_uri": "https://localhost:8080/"
        },
        "id": "NH_0bMlDKqjs",
        "outputId": "45280645-07ce-4059-db9c-9014d5c7831a"
      },
      "source": [
        "data.shape"
      ],
      "execution_count": 10,
      "outputs": [
        {
          "output_type": "execute_result",
          "data": {
            "text/plain": [
              "(2748, 2)"
            ]
          },
          "metadata": {
            "tags": []
          },
          "execution_count": 10
        }
      ]
    },
    {
      "cell_type": "markdown",
      "metadata": {
        "id": "fBZzH_GoKvfE"
      },
      "source": [
        "*Distribution Of Sentiments Data*"
      ]
    },
    {
      "cell_type": "code",
      "metadata": {
        "colab": {
          "base_uri": "https://localhost:8080/"
        },
        "id": "PQaUzuLZLABh",
        "outputId": "b50e10ac-cf2b-43e0-c48e-1ba935c9390a"
      },
      "source": [
        " data['Sentiment'].value_counts()"
      ],
      "execution_count": 11,
      "outputs": [
        {
          "output_type": "execute_result",
          "data": {
            "text/plain": [
              "1    1386\n",
              "0    1362\n",
              "Name: Sentiment, dtype: int64"
            ]
          },
          "metadata": {
            "tags": []
          },
          "execution_count": 11
        }
      ]
    },
    {
      "cell_type": "markdown",
      "metadata": {
        "id": "u9F41J-8NJ1_"
      },
      "source": [
        "*Null Checking*\n"
      ]
    },
    {
      "cell_type": "code",
      "metadata": {
        "colab": {
          "base_uri": "https://localhost:8080/"
        },
        "id": "xv4b-O2RNP-v",
        "outputId": "cf2ac048-3168-4118-e6c3-28d80d348132"
      },
      "source": [
        "data.isnull().sum()"
      ],
      "execution_count": 12,
      "outputs": [
        {
          "output_type": "execute_result",
          "data": {
            "text/plain": [
              "Review       0\n",
              "Sentiment    0\n",
              "dtype: int64"
            ]
          },
          "metadata": {
            "tags": []
          },
          "execution_count": 12
        }
      ]
    },
    {
      "cell_type": "markdown",
      "metadata": {
        "id": "m2AbanEaMuab"
      },
      "source": [
        "Replacing 1 and 0 by Positive and Negative Respectively"
      ]
    },
    {
      "cell_type": "code",
      "metadata": {
        "colab": {
          "base_uri": "https://localhost:8080/"
        },
        "id": "f7dwPdp0JjOe",
        "outputId": "71566286-c20d-4d75-c905-cdb7df518aab"
      },
      "source": [
        "a=data[data['Sentiment']==1]\n",
        "a['Sentiment'][:] = 'Positive'\n",
        "data[data['Sentiment']==1] = a"
      ],
      "execution_count": 22,
      "outputs": [
        {
          "output_type": "stream",
          "text": [
            "/usr/local/lib/python3.7/dist-packages/pandas/core/series.py:1027: SettingWithCopyWarning: \n",
            "A value is trying to be set on a copy of a slice from a DataFrame\n",
            "\n",
            "See the caveats in the documentation: https://pandas.pydata.org/pandas-docs/stable/user_guide/indexing.html#returning-a-view-versus-a-copy\n",
            "  self._set_with(key, value)\n",
            "/usr/local/lib/python3.7/dist-packages/IPython/core/interactiveshell.py:2882: SettingWithCopyWarning: \n",
            "A value is trying to be set on a copy of a slice from a DataFrame\n",
            "\n",
            "See the caveats in the documentation: https://pandas.pydata.org/pandas-docs/stable/user_guide/indexing.html#returning-a-view-versus-a-copy\n",
            "  exec(code_obj, self.user_global_ns, self.user_ns)\n"
          ],
          "name": "stderr"
        }
      ]
    },
    {
      "cell_type": "code",
      "metadata": {
        "colab": {
          "base_uri": "https://localhost:8080/",
          "height": 363
        },
        "id": "kBYHfPM2L_ht",
        "outputId": "7583bc1a-556c-4f27-a419-45a4e064b6e6"
      },
      "source": [
        "b=data[data['Sentiment']==0]\n",
        "b['Sentiment'][:] = 'Negative'\n",
        "data[data['Sentiment']==0] = b\n",
        "data.head()"
      ],
      "execution_count": 23,
      "outputs": [
        {
          "output_type": "stream",
          "text": [
            "/usr/local/lib/python3.7/dist-packages/pandas/core/series.py:1027: SettingWithCopyWarning: \n",
            "A value is trying to be set on a copy of a slice from a DataFrame\n",
            "\n",
            "See the caveats in the documentation: https://pandas.pydata.org/pandas-docs/stable/user_guide/indexing.html#returning-a-view-versus-a-copy\n",
            "  self._set_with(key, value)\n",
            "/usr/local/lib/python3.7/dist-packages/IPython/core/interactiveshell.py:2882: SettingWithCopyWarning: \n",
            "A value is trying to be set on a copy of a slice from a DataFrame\n",
            "\n",
            "See the caveats in the documentation: https://pandas.pydata.org/pandas-docs/stable/user_guide/indexing.html#returning-a-view-versus-a-copy\n",
            "  exec(code_obj, self.user_global_ns, self.user_ns)\n"
          ],
          "name": "stderr"
        },
        {
          "output_type": "execute_result",
          "data": {
            "text/html": [
              "<div>\n",
              "<style scoped>\n",
              "    .dataframe tbody tr th:only-of-type {\n",
              "        vertical-align: middle;\n",
              "    }\n",
              "\n",
              "    .dataframe tbody tr th {\n",
              "        vertical-align: top;\n",
              "    }\n",
              "\n",
              "    .dataframe thead th {\n",
              "        text-align: right;\n",
              "    }\n",
              "</style>\n",
              "<table border=\"1\" class=\"dataframe\">\n",
              "  <thead>\n",
              "    <tr style=\"text-align: right;\">\n",
              "      <th></th>\n",
              "      <th>Review</th>\n",
              "      <th>Sentiment</th>\n",
              "    </tr>\n",
              "  </thead>\n",
              "  <tbody>\n",
              "    <tr>\n",
              "      <th>0</th>\n",
              "      <td>Wow... Loved this place.</td>\n",
              "      <td>Positive</td>\n",
              "    </tr>\n",
              "    <tr>\n",
              "      <th>1</th>\n",
              "      <td>Crust is not good.</td>\n",
              "      <td>Negative</td>\n",
              "    </tr>\n",
              "    <tr>\n",
              "      <th>2</th>\n",
              "      <td>Not tasty and the texture was just nasty.</td>\n",
              "      <td>Negative</td>\n",
              "    </tr>\n",
              "    <tr>\n",
              "      <th>3</th>\n",
              "      <td>Stopped by during the late May bank holiday of...</td>\n",
              "      <td>Positive</td>\n",
              "    </tr>\n",
              "    <tr>\n",
              "      <th>4</th>\n",
              "      <td>The selection on the menu was great and so wer...</td>\n",
              "      <td>Positive</td>\n",
              "    </tr>\n",
              "  </tbody>\n",
              "</table>\n",
              "</div>"
            ],
            "text/plain": [
              "                                              Review Sentiment\n",
              "0                           Wow... Loved this place.  Positive\n",
              "1                                 Crust is not good.  Negative\n",
              "2          Not tasty and the texture was just nasty.  Negative\n",
              "3  Stopped by during the late May bank holiday of...  Positive\n",
              "4  The selection on the menu was great and so wer...  Positive"
            ]
          },
          "metadata": {
            "tags": []
          },
          "execution_count": 23
        }
      ]
    },
    {
      "cell_type": "code",
      "metadata": {
        "colab": {
          "base_uri": "https://localhost:8080/"
        },
        "id": "C8Z2CWXuN2GL",
        "outputId": "0639e0f4-e336-456e-8f08-87e54c37ab14"
      },
      "source": [
        "x = data['Review']\n",
        "y = data['Sentiment']\n",
        "print(x.shape)\n",
        "print(y.shape)"
      ],
      "execution_count": 24,
      "outputs": [
        {
          "output_type": "stream",
          "text": [
            "(2748,)\n",
            "(2748,)\n"
          ],
          "name": "stdout"
        }
      ]
    },
    {
      "cell_type": "markdown",
      "metadata": {
        "id": "l89ATcPBOXL-"
      },
      "source": [
        "## **Data Preprocessing/Cleaning**\n",
        "\n",
        "Here, Stopwords, Punctuations -> **REMOVED**\n",
        "\n",
        "Apply ***Lemmatization***\n"
      ]
    },
    {
      "cell_type": "code",
      "metadata": {
        "id": "7kYig-lBOe7v"
      },
      "source": [
        " import string\n",
        " punct = string.punctuation\n",
        "#  punct"
      ],
      "execution_count": 25,
      "outputs": []
    },
    {
      "cell_type": "markdown",
      "metadata": {
        "id": "20r4EGgkTh2u"
      },
      "source": [
        "Stop Words"
      ]
    },
    {
      "cell_type": "code",
      "metadata": {
        "id": "9vFfMbMaTmtP",
        "colab": {
          "base_uri": "https://localhost:8080/"
        },
        "outputId": "d47752ef-cb18-4a94-832a-61be450be94e"
      },
      "source": [
        "from spacy.lang.en.stop_words import STOP_WORDS\n",
        "stopwords= list(STOP_WORDS) #list of stopwords\n",
        "stopwords  #326 words"
      ],
      "execution_count": 37,
      "outputs": [
        {
          "output_type": "execute_result",
          "data": {
            "text/plain": [
              "['meanwhile',\n",
              " 'should',\n",
              " 'again',\n",
              " 'much',\n",
              " 'along',\n",
              " 'throughout',\n",
              " 'only',\n",
              " 'regarding',\n",
              " 'whereby',\n",
              " 'beside',\n",
              " 'ca',\n",
              " 'please',\n",
              " 'used',\n",
              " 'serious',\n",
              " 'always',\n",
              " 'do',\n",
              " 'there',\n",
              " 'am',\n",
              " 'some',\n",
              " 'how',\n",
              " 'whole',\n",
              " 'even',\n",
              " 'except',\n",
              " 'without',\n",
              " 'really',\n",
              " 'she',\n",
              " 're',\n",
              " 'otherwise',\n",
              " 'beforehand',\n",
              " 'themselves',\n",
              " 'has',\n",
              " 'through',\n",
              " 'could',\n",
              " 'go',\n",
              " 'can',\n",
              " 'is',\n",
              " 'hundred',\n",
              " 'afterwards',\n",
              " 'enough',\n",
              " 'would',\n",
              " 'hereafter',\n",
              " 'might',\n",
              " 'thru',\n",
              " 'beyond',\n",
              " 'under',\n",
              " 'onto',\n",
              " 'less',\n",
              " '’d',\n",
              " 'while',\n",
              " '’ve',\n",
              " 'bottom',\n",
              " 'former',\n",
              " 'however',\n",
              " '’ll',\n",
              " 'others',\n",
              " 'take',\n",
              " '‘m',\n",
              " 'did',\n",
              " 'unless',\n",
              " 'doing',\n",
              " 'anyhow',\n",
              " '‘s',\n",
              " 'if',\n",
              " 'after',\n",
              " 'such',\n",
              " 'none',\n",
              " 'full',\n",
              " 'nor',\n",
              " 'around',\n",
              " \"'s\",\n",
              " 'since',\n",
              " 'eleven',\n",
              " 'with',\n",
              " 'namely',\n",
              " 'your',\n",
              " \"n't\",\n",
              " 'ours',\n",
              " 'more',\n",
              " 'sometimes',\n",
              " 'upon',\n",
              " 'next',\n",
              " 'than',\n",
              " 'made',\n",
              " 'down',\n",
              " 'make',\n",
              " 'until',\n",
              " '‘ll',\n",
              " 'seemed',\n",
              " 'yet',\n",
              " 'many',\n",
              " 'becomes',\n",
              " 'hereby',\n",
              " 'does',\n",
              " 'where',\n",
              " 'himself',\n",
              " 'once',\n",
              " 'herself',\n",
              " 'thence',\n",
              " 'keep',\n",
              " 'seems',\n",
              " '‘d',\n",
              " 'that',\n",
              " 'something',\n",
              " 'ever',\n",
              " 'been',\n",
              " 'anything',\n",
              " 'n‘t',\n",
              " 'their',\n",
              " 'had',\n",
              " 'those',\n",
              " 'amount',\n",
              " 'for',\n",
              " 'by',\n",
              " 'me',\n",
              " 'twenty',\n",
              " 'toward',\n",
              " 'thereupon',\n",
              " 'never',\n",
              " 'call',\n",
              " 'whoever',\n",
              " 'eight',\n",
              " 'about',\n",
              " 'who',\n",
              " 'now',\n",
              " 'out',\n",
              " 'before',\n",
              " 'either',\n",
              " 'it',\n",
              " 'so',\n",
              " 'as',\n",
              " 'from',\n",
              " 'alone',\n",
              " 'fifty',\n",
              " 'during',\n",
              " 'already',\n",
              " 'almost',\n",
              " 'one',\n",
              " 'several',\n",
              " 'nobody',\n",
              " 'whereupon',\n",
              " 'you',\n",
              " 'every',\n",
              " 'here',\n",
              " 'done',\n",
              " 'whose',\n",
              " 'somewhere',\n",
              " 'three',\n",
              " \"'ve\",\n",
              " 'sometime',\n",
              " 'hence',\n",
              " 'else',\n",
              " 'towards',\n",
              " 'thereafter',\n",
              " 'which',\n",
              " 'still',\n",
              " 'then',\n",
              " 'also',\n",
              " 'therein',\n",
              " 'n’t',\n",
              " 'them',\n",
              " 'between',\n",
              " 'someone',\n",
              " 'they',\n",
              " 'seeming',\n",
              " 'may',\n",
              " 'our',\n",
              " 'six',\n",
              " 'few',\n",
              " 'within',\n",
              " 'back',\n",
              " 'just',\n",
              " '’s',\n",
              " 'because',\n",
              " 'have',\n",
              " 'off',\n",
              " 'though',\n",
              " 'third',\n",
              " 'into',\n",
              " 'last',\n",
              " 'neither',\n",
              " 'be',\n",
              " 'somehow',\n",
              " 'among',\n",
              " 'name',\n",
              " 'elsewhere',\n",
              " 'myself',\n",
              " 'nevertheless',\n",
              " 'the',\n",
              " 'too',\n",
              " 'sixty',\n",
              " 'least',\n",
              " 'these',\n",
              " 'why',\n",
              " 'put',\n",
              " 'whereafter',\n",
              " 'in',\n",
              " 'part',\n",
              " 'its',\n",
              " '‘ve',\n",
              " 'thereby',\n",
              " 'perhaps',\n",
              " 'across',\n",
              " 'a',\n",
              " '’m',\n",
              " 'everyone',\n",
              " 'due',\n",
              " 'hereupon',\n",
              " 'on',\n",
              " 'and',\n",
              " 'become',\n",
              " 'front',\n",
              " 'became',\n",
              " 'being',\n",
              " 'or',\n",
              " 'herein',\n",
              " 'although',\n",
              " 'ten',\n",
              " 'over',\n",
              " 'whether',\n",
              " 'most',\n",
              " 'fifteen',\n",
              " 'various',\n",
              " 'latterly',\n",
              " 'indeed',\n",
              " 'say',\n",
              " 'noone',\n",
              " 'same',\n",
              " 'whenever',\n",
              " 'wherever',\n",
              " 'his',\n",
              " 'nowhere',\n",
              " 'him',\n",
              " 'what',\n",
              " 'empty',\n",
              " 'an',\n",
              " 'he',\n",
              " 'own',\n",
              " 'whence',\n",
              " 'below',\n",
              " 'together',\n",
              " 'anyway',\n",
              " 'further',\n",
              " 'yourselves',\n",
              " 'when',\n",
              " 'formerly',\n",
              " 'quite',\n",
              " 'whom',\n",
              " 'top',\n",
              " 'therefore',\n",
              " 'see',\n",
              " 'are',\n",
              " 'besides',\n",
              " 'not',\n",
              " 'thus',\n",
              " \"'m\",\n",
              " 'no',\n",
              " 'another',\n",
              " \"'re\",\n",
              " '’re',\n",
              " 'nothing',\n",
              " 'us',\n",
              " \"'ll\",\n",
              " 'at',\n",
              " 'mostly',\n",
              " 'my',\n",
              " 'to',\n",
              " '‘re',\n",
              " 'her',\n",
              " 'cannot',\n",
              " 'first',\n",
              " 'above',\n",
              " 'moreover',\n",
              " 'latter',\n",
              " 'hers',\n",
              " 'up',\n",
              " 'of',\n",
              " 'using',\n",
              " 'anyone',\n",
              " 'move',\n",
              " 'whereas',\n",
              " 'forty',\n",
              " 'each',\n",
              " 'must',\n",
              " 'any',\n",
              " 'other',\n",
              " 'whatever',\n",
              " 'i',\n",
              " 'seem',\n",
              " 'mine',\n",
              " 'yours',\n",
              " 'four',\n",
              " 'all',\n",
              " 'but',\n",
              " 'via',\n",
              " 'becoming',\n",
              " 'were',\n",
              " 'was',\n",
              " 'itself',\n",
              " 'we',\n",
              " 'everywhere',\n",
              " 'wherein',\n",
              " 'anywhere',\n",
              " 'show',\n",
              " 'side',\n",
              " 'rather',\n",
              " 'this',\n",
              " 'two',\n",
              " 'behind',\n",
              " 'will',\n",
              " 'against',\n",
              " 'everything',\n",
              " 'give',\n",
              " 'well',\n",
              " 'ourselves',\n",
              " 'per',\n",
              " 'five',\n",
              " 'yourself',\n",
              " 'both',\n",
              " 'nine',\n",
              " 'often',\n",
              " 'twelve',\n",
              " 'amongst',\n",
              " 'very',\n",
              " \"'d\",\n",
              " 'whither',\n",
              " 'get']"
            ]
          },
          "metadata": {
            "tags": []
          },
          "execution_count": 37
        }
      ]
    },
    {
      "cell_type": "markdown",
      "metadata": {
        "id": "fvVtV5NZW2T1"
      },
      "source": [
        "***Data Cleaning Method***"
      ]
    },
    {
      "cell_type": "code",
      "metadata": {
        "id": "ul4pJejwiDT0"
      },
      "source": [
        "import spacy\n",
        "nlp= spacy.load('en_core_web_sm')"
      ],
      "execution_count": 38,
      "outputs": []
    },
    {
      "cell_type": "code",
      "metadata": {
        "id": "uNNDllPwW7PH"
      },
      "source": [
        "def text_cleaning(vario): # accept only 1 review at a run\n",
        "  doc = nlp(vario) # calling spacy model to work on a SENTENCE \n",
        " \n",
        "  \n",
        "  tokens = [] # list of tokens\n",
        "\n",
        "  # lowering case all tokens \n",
        "  \n",
        "  for token in doc:\n",
        "\n",
        "# if root form(token) of that word is not pronoun then it is going to convert that into lowercase\n",
        "    if token.lemma_ !=\"-PRON-\":\n",
        "      temp = token.lemma_.lower().strip()\n",
        "    else:\n",
        "# If that word is proper noun,then it directly taking lower case, because there is no lemma for proper noun\n",
        "      temp = token.lower_\n",
        "    tokens.append(temp)\n",
        "\n",
        "\n",
        "\n",
        "  cleaned_tokens= [] \n",
        "  # removing all punctuation and stopword tokens  \n",
        "  for token in tokens:\n",
        "    if token not in stopwords and token not in punct:\n",
        "      cleaned_tokens.append(token)\n",
        "  return cleaned_tokens          "
      ],
      "execution_count": 45,
      "outputs": []
    },
    {
      "cell_type": "markdown",
      "metadata": {
        "id": "-7GrxJDG7bnQ"
      },
      "source": [
        "## **Verctorization Feature Engineering(TF-IDF)**"
      ]
    },
    {
      "cell_type": "code",
      "metadata": {
        "id": "WX1d-ghx7lPC",
        "colab": {
          "base_uri": "https://localhost:8080/"
        },
        "outputId": "a33828b9-77ea-44c5-9da5-b1784f4aa8be"
      },
      "source": [
        "from sklearn.feature_extraction.text import TfidfVectorizer\n",
        "from sklearn.pipeline import Pipeline\n",
        "from sklearn.naive_bayes import MultinomialNB as MNB\n",
        "tfidf = TfidfVectorizer(tokenizer=text_cleaning)\n",
        "tfidf"
      ],
      "execution_count": 46,
      "outputs": [
        {
          "output_type": "execute_result",
          "data": {
            "text/plain": [
              "TfidfVectorizer(analyzer='word', binary=False, decode_error='strict',\n",
              "                dtype=<class 'numpy.float64'>, encoding='utf-8',\n",
              "                input='content', lowercase=True, max_df=1.0, max_features=None,\n",
              "                min_df=1, ngram_range=(1, 1), norm='l2', preprocessor=None,\n",
              "                smooth_idf=True, stop_words=None, strip_accents=None,\n",
              "                sublinear_tf=False, token_pattern='(?u)\\\\b\\\\w\\\\w+\\\\b',\n",
              "                tokenizer=<function text_cleaning at 0x7fc1e60130e0>,\n",
              "                use_idf=True, vocabulary=None)"
            ]
          },
          "metadata": {
            "tags": []
          },
          "execution_count": 46
        }
      ]
    },
    {
      "cell_type": "markdown",
      "metadata": {
        "id": "CHx2YC9aQ_I-"
      },
      "source": [
        "Create naive bayes classifier"
      ]
    },
    {
      "cell_type": "code",
      "metadata": {
        "id": "ONDMCXKNQ4f5"
      },
      "source": [
        "classifier = MNB()"
      ],
      "execution_count": 47,
      "outputs": []
    },
    {
      "cell_type": "markdown",
      "metadata": {
        "id": "6A07XNMJ-25v"
      },
      "source": [
        "## **Training and Testing**"
      ]
    },
    {
      "cell_type": "markdown",
      "metadata": {
        "id": "M1-bz2ol-_L1"
      },
      "source": [
        "**Spliting Data**\n",
        "\n",
        "Testing Data: 0.2 (20% of Whole)\n",
        "\n",
        "Training Data: 0.8 (80% of Whole)"
      ]
    },
    {
      "cell_type": "code",
      "metadata": {
        "id": "uCPk2J_5_Dvd"
      },
      "source": [
        "from sklearn.model_selection import train_test_split\n",
        "\n",
        "x_train,x_test,y_train,y_test = train_test_split(x,y,test_size=0.2,random_state=0 )\n",
        "# x_train.shape+x_test.shape"
      ],
      "execution_count": 48,
      "outputs": []
    },
    {
      "cell_type": "markdown",
      "metadata": {
        "id": "ETlYhO4XBTPr"
      },
      "source": [
        "**Fitting the Values/Data**\n",
        "\n",
        "*Pipeline* - The purpose of the pipeline is to assemble several steps that can be cross-validated together while setting different parameters."
      ]
    },
    {
      "cell_type": "code",
      "metadata": {
        "id": "1j4-PMgaBbOQ"
      },
      "source": [
        "clf =Pipeline([('tfidf',tfidf),('clf',classifier)])"
      ],
      "execution_count": 49,
      "outputs": []
    },
    {
      "cell_type": "code",
      "metadata": {
        "colab": {
          "base_uri": "https://localhost:8080/"
        },
        "id": "kw0Z6d3-Ccd1",
        "outputId": "1e8bf733-734a-47a4-a7b3-7f7e5b6979c4"
      },
      "source": [
        "clf.fit(x_train,y_train)"
      ],
      "execution_count": 50,
      "outputs": [
        {
          "output_type": "execute_result",
          "data": {
            "text/plain": [
              "Pipeline(memory=None,\n",
              "         steps=[('tfidf',\n",
              "                 TfidfVectorizer(analyzer='word', binary=False,\n",
              "                                 decode_error='strict',\n",
              "                                 dtype=<class 'numpy.float64'>,\n",
              "                                 encoding='utf-8', input='content',\n",
              "                                 lowercase=True, max_df=1.0, max_features=None,\n",
              "                                 min_df=1, ngram_range=(1, 1), norm='l2',\n",
              "                                 preprocessor=None, smooth_idf=True,\n",
              "                                 stop_words=None, strip_accents=None,\n",
              "                                 sublinear_tf=False,\n",
              "                                 token_pattern='(?u)\\\\b\\\\w\\\\w+\\\\b',\n",
              "                                 tokenizer=<function text_cleaning at 0x7fc1e60130e0>,\n",
              "                                 use_idf=True, vocabulary=None)),\n",
              "                ('clf',\n",
              "                 MultinomialNB(alpha=1.0, class_prior=None, fit_prior=True))],\n",
              "         verbose=False)"
            ]
          },
          "metadata": {
            "tags": []
          },
          "execution_count": 50
        }
      ]
    },
    {
      "cell_type": "markdown",
      "metadata": {
        "id": "fTAqTmGkPDqx"
      },
      "source": [
        "## **Testing and Scoring**"
      ]
    },
    {
      "cell_type": "code",
      "metadata": {
        "id": "NMftr3GxPMQA",
        "colab": {
          "base_uri": "https://localhost:8080/"
        },
        "outputId": "77c2e5ff-6d20-424a-a275-37ec203d1416"
      },
      "source": [
        "from sklearn.metrics import classification_report,accuracy_score,confusion_matrix\n",
        "y_pred = clf.predict(x_test)\n",
        "y_pred\n"
      ],
      "execution_count": 51,
      "outputs": [
        {
          "output_type": "execute_result",
          "data": {
            "text/plain": [
              "array(['Positive', 'Negative', 'Positive', 'Negative', 'Negative',\n",
              "       'Negative', 'Negative', 'Positive', 'Negative', 'Positive',\n",
              "       'Negative', 'Positive', 'Negative', 'Positive', 'Positive',\n",
              "       'Positive', 'Positive', 'Positive', 'Positive', 'Positive',\n",
              "       'Negative', 'Negative', 'Negative', 'Positive', 'Positive',\n",
              "       'Positive', 'Positive', 'Positive', 'Positive', 'Positive',\n",
              "       'Positive', 'Positive', 'Negative', 'Positive', 'Negative',\n",
              "       'Positive', 'Negative', 'Positive', 'Negative', 'Negative',\n",
              "       'Positive', 'Positive', 'Positive', 'Positive', 'Positive',\n",
              "       'Negative', 'Positive', 'Positive', 'Negative', 'Negative',\n",
              "       'Negative', 'Positive', 'Positive', 'Negative', 'Positive',\n",
              "       'Negative', 'Negative', 'Positive', 'Positive', 'Positive',\n",
              "       'Positive', 'Positive', 'Negative', 'Negative', 'Negative',\n",
              "       'Positive', 'Negative', 'Positive', 'Positive', 'Negative',\n",
              "       'Positive', 'Negative', 'Negative', 'Negative', 'Positive',\n",
              "       'Negative', 'Negative', 'Positive', 'Negative', 'Negative',\n",
              "       'Positive', 'Negative', 'Positive', 'Positive', 'Positive',\n",
              "       'Positive', 'Positive', 'Positive', 'Negative', 'Positive',\n",
              "       'Negative', 'Negative', 'Positive', 'Negative', 'Positive',\n",
              "       'Positive', 'Positive', 'Positive', 'Positive', 'Negative',\n",
              "       'Positive', 'Negative', 'Negative', 'Negative', 'Positive',\n",
              "       'Positive', 'Negative', 'Negative', 'Negative', 'Positive',\n",
              "       'Positive', 'Positive', 'Positive', 'Negative', 'Negative',\n",
              "       'Positive', 'Negative', 'Positive', 'Positive', 'Negative',\n",
              "       'Negative', 'Positive', 'Negative', 'Positive', 'Positive',\n",
              "       'Negative', 'Positive', 'Negative', 'Positive', 'Negative',\n",
              "       'Negative', 'Positive', 'Positive', 'Negative', 'Positive',\n",
              "       'Positive', 'Positive', 'Negative', 'Positive', 'Negative',\n",
              "       'Positive', 'Negative', 'Negative', 'Positive', 'Positive',\n",
              "       'Negative', 'Positive', 'Positive', 'Positive', 'Positive',\n",
              "       'Positive', 'Negative', 'Negative', 'Negative', 'Positive',\n",
              "       'Negative', 'Positive', 'Negative', 'Positive', 'Positive',\n",
              "       'Positive', 'Positive', 'Positive', 'Positive', 'Negative',\n",
              "       'Positive', 'Negative', 'Positive', 'Positive', 'Negative',\n",
              "       'Positive', 'Positive', 'Negative', 'Positive', 'Positive',\n",
              "       'Negative', 'Negative', 'Positive', 'Positive', 'Negative',\n",
              "       'Positive', 'Positive', 'Negative', 'Negative', 'Negative',\n",
              "       'Positive', 'Positive', 'Positive', 'Positive', 'Negative',\n",
              "       'Negative', 'Positive', 'Positive', 'Positive', 'Positive',\n",
              "       'Positive', 'Negative', 'Negative', 'Positive', 'Positive',\n",
              "       'Negative', 'Negative', 'Positive', 'Negative', 'Positive',\n",
              "       'Negative', 'Positive', 'Negative', 'Positive', 'Negative',\n",
              "       'Negative', 'Negative', 'Positive', 'Positive', 'Positive',\n",
              "       'Positive', 'Negative', 'Negative', 'Positive', 'Positive',\n",
              "       'Positive', 'Positive', 'Negative', 'Positive', 'Positive',\n",
              "       'Positive', 'Negative', 'Positive', 'Positive', 'Positive',\n",
              "       'Positive', 'Negative', 'Negative', 'Negative', 'Positive',\n",
              "       'Positive', 'Positive', 'Negative', 'Positive', 'Positive',\n",
              "       'Positive', 'Positive', 'Positive', 'Positive', 'Negative',\n",
              "       'Positive', 'Positive', 'Negative', 'Negative', 'Positive',\n",
              "       'Negative', 'Negative', 'Positive', 'Positive', 'Negative',\n",
              "       'Positive', 'Positive', 'Negative', 'Positive', 'Positive',\n",
              "       'Negative', 'Negative', 'Negative', 'Negative', 'Positive',\n",
              "       'Negative', 'Negative', 'Negative', 'Positive', 'Positive',\n",
              "       'Negative', 'Positive', 'Positive', 'Negative', 'Positive',\n",
              "       'Positive', 'Positive', 'Negative', 'Positive', 'Negative',\n",
              "       'Negative', 'Positive', 'Negative', 'Negative', 'Positive',\n",
              "       'Negative', 'Positive', 'Positive', 'Negative', 'Positive',\n",
              "       'Negative', 'Negative', 'Negative', 'Positive', 'Negative',\n",
              "       'Positive', 'Positive', 'Positive', 'Positive', 'Positive',\n",
              "       'Positive', 'Negative', 'Positive', 'Negative', 'Negative',\n",
              "       'Positive', 'Positive', 'Negative', 'Positive', 'Positive',\n",
              "       'Negative', 'Negative', 'Positive', 'Negative', 'Positive',\n",
              "       'Negative', 'Positive', 'Positive', 'Negative', 'Negative',\n",
              "       'Positive', 'Positive', 'Positive', 'Positive', 'Positive',\n",
              "       'Negative', 'Positive', 'Positive', 'Positive', 'Negative',\n",
              "       'Positive', 'Positive', 'Negative', 'Positive', 'Negative',\n",
              "       'Positive', 'Negative', 'Negative', 'Positive', 'Negative',\n",
              "       'Positive', 'Positive', 'Negative', 'Positive', 'Positive',\n",
              "       'Negative', 'Negative', 'Negative', 'Positive', 'Negative',\n",
              "       'Negative', 'Positive', 'Positive', 'Negative', 'Negative',\n",
              "       'Negative', 'Positive', 'Positive', 'Positive', 'Negative',\n",
              "       'Negative', 'Positive', 'Positive', 'Negative', 'Negative',\n",
              "       'Negative', 'Positive', 'Positive', 'Positive', 'Positive',\n",
              "       'Positive', 'Positive', 'Positive', 'Positive', 'Negative',\n",
              "       'Negative', 'Positive', 'Positive', 'Positive', 'Negative',\n",
              "       'Negative', 'Positive', 'Negative', 'Negative', 'Negative',\n",
              "       'Positive', 'Negative', 'Positive', 'Positive', 'Negative',\n",
              "       'Positive', 'Positive', 'Positive', 'Negative', 'Positive',\n",
              "       'Negative', 'Negative', 'Negative', 'Positive', 'Negative',\n",
              "       'Negative', 'Positive', 'Positive', 'Negative', 'Positive',\n",
              "       'Positive', 'Negative', 'Positive', 'Negative', 'Positive',\n",
              "       'Negative', 'Negative', 'Negative', 'Positive', 'Negative',\n",
              "       'Negative', 'Positive', 'Positive', 'Positive', 'Positive',\n",
              "       'Positive', 'Positive', 'Negative', 'Positive', 'Positive',\n",
              "       'Positive', 'Positive', 'Positive', 'Positive', 'Positive',\n",
              "       'Positive', 'Negative', 'Positive', 'Negative', 'Negative',\n",
              "       'Positive', 'Positive', 'Negative', 'Negative', 'Negative',\n",
              "       'Positive', 'Negative', 'Negative', 'Positive', 'Positive',\n",
              "       'Positive', 'Positive', 'Positive', 'Negative', 'Negative',\n",
              "       'Negative', 'Positive', 'Positive', 'Positive', 'Positive',\n",
              "       'Negative', 'Positive', 'Positive', 'Positive', 'Positive',\n",
              "       'Negative', 'Positive', 'Positive', 'Positive', 'Positive',\n",
              "       'Positive', 'Positive', 'Positive', 'Positive', 'Positive',\n",
              "       'Positive', 'Negative', 'Negative', 'Positive', 'Negative',\n",
              "       'Positive', 'Positive', 'Positive', 'Negative', 'Negative',\n",
              "       'Positive', 'Positive', 'Negative', 'Positive', 'Negative',\n",
              "       'Positive', 'Positive', 'Negative', 'Positive', 'Positive',\n",
              "       'Negative', 'Positive', 'Negative', 'Positive', 'Positive',\n",
              "       'Positive', 'Positive', 'Positive', 'Negative', 'Positive',\n",
              "       'Positive', 'Positive', 'Negative', 'Positive', 'Negative',\n",
              "       'Positive', 'Positive', 'Positive', 'Negative', 'Positive',\n",
              "       'Positive', 'Positive', 'Negative', 'Negative', 'Negative',\n",
              "       'Negative', 'Positive', 'Negative', 'Negative', 'Negative',\n",
              "       'Positive', 'Positive', 'Positive', 'Positive', 'Negative',\n",
              "       'Negative', 'Positive', 'Positive', 'Negative', 'Negative',\n",
              "       'Negative', 'Positive', 'Negative', 'Positive', 'Positive',\n",
              "       'Positive', 'Positive', 'Positive', 'Negative', 'Positive',\n",
              "       'Positive', 'Negative', 'Negative', 'Negative', 'Positive',\n",
              "       'Negative', 'Positive', 'Negative', 'Negative', 'Positive'],\n",
              "      dtype='<U8')"
            ]
          },
          "metadata": {
            "tags": []
          },
          "execution_count": 51
        }
      ]
    },
    {
      "cell_type": "markdown",
      "metadata": {
        "id": "D2bYqN4WPoru"
      },
      "source": [
        "**Confusion Matrix**"
      ]
    },
    {
      "cell_type": "code",
      "metadata": {
        "colab": {
          "base_uri": "https://localhost:8080/"
        },
        "id": "__UQRVDHPnrV",
        "outputId": "5b283a87-ad76-45b3-c0fd-b205ceb520f5"
      },
      "source": [
        "confusion_matrix(y_test,y_pred)"
      ],
      "execution_count": 52,
      "outputs": [
        {
          "output_type": "execute_result",
          "data": {
            "text/plain": [
              "array([[195,  84],\n",
              "       [ 32, 239]])"
            ]
          },
          "metadata": {
            "tags": []
          },
          "execution_count": 52
        }
      ]
    },
    {
      "cell_type": "markdown",
      "metadata": {
        "id": "2E2uG2P-PzOD"
      },
      "source": [
        "**Classification Matrix**"
      ]
    },
    {
      "cell_type": "code",
      "metadata": {
        "colab": {
          "base_uri": "https://localhost:8080/"
        },
        "id": "SGutCipRP26b",
        "outputId": "d4dc9fe5-3a11-46ee-f7aa-01e393fe4479"
      },
      "source": [
        "print(classification_report(y_test,y_pred)) "
      ],
      "execution_count": 53,
      "outputs": [
        {
          "output_type": "stream",
          "text": [
            "              precision    recall  f1-score   support\n",
            "\n",
            "    Negative       0.86      0.70      0.77       279\n",
            "    Positive       0.74      0.88      0.80       271\n",
            "\n",
            "    accuracy                           0.79       550\n",
            "   macro avg       0.80      0.79      0.79       550\n",
            "weighted avg       0.80      0.79      0.79       550\n",
            "\n"
          ],
          "name": "stdout"
        }
      ]
    },
    {
      "cell_type": "markdown",
      "metadata": {
        "id": "coxYfMHFQF6w"
      },
      "source": [
        "**Accuracy Score**"
      ]
    },
    {
      "cell_type": "code",
      "metadata": {
        "colab": {
          "base_uri": "https://localhost:8080/"
        },
        "id": "MuEBtO_zQJBl",
        "outputId": "b60ee765-ce12-4f4e-9b55-95d293045b43"
      },
      "source": [
        "print(f'Accuracy Score: {round((accuracy_score(y_test,y_pred)*100),2)}%')\n",
        "# 78.91%"
      ],
      "execution_count": 54,
      "outputs": [
        {
          "output_type": "stream",
          "text": [
            "Accuracy Score: 78.91%\n"
          ],
          "name": "stdout"
        }
      ]
    },
    {
      "cell_type": "code",
      "metadata": {
        "colab": {
          "base_uri": "https://localhost:8080/"
        },
        "id": "x9dD4AaQ8sH3",
        "outputId": "470ec069-1e76-4cbd-ac5a-4c19a9f834e4"
      },
      "source": [
        "#Training accuracy\n",
        "clf.score(x_train,y_train)"
      ],
      "execution_count": 63,
      "outputs": [
        {
          "output_type": "execute_result",
          "data": {
            "text/plain": [
              "0.9399454049135578"
            ]
          },
          "metadata": {
            "tags": []
          },
          "execution_count": 63
        }
      ]
    },
    {
      "cell_type": "code",
      "metadata": {
        "colab": {
          "base_uri": "https://localhost:8080/"
        },
        "id": "F2Cy5Yc-9AsE",
        "outputId": "2e34b3c8-9f5c-4139-e089-85bb39756fbc"
      },
      "source": [
        "#Testing accuracy\n",
        "clf.score(x_test,y_test)"
      ],
      "execution_count": 64,
      "outputs": [
        {
          "output_type": "execute_result",
          "data": {
            "text/plain": [
              "0.7890909090909091"
            ]
          },
          "metadata": {
            "tags": []
          },
          "execution_count": 64
        }
      ]
    },
    {
      "cell_type": "markdown",
      "metadata": {
        "id": "GkAjgLjBRGjM"
      },
      "source": [
        "**Checking**"
      ]
    },
    {
      "cell_type": "code",
      "metadata": {
        "id": "fT8eZIT0RJoR",
        "colab": {
          "base_uri": "https://localhost:8080/"
        },
        "outputId": "80bf0cfe-95f0-4ab6-be10-b5370200bda3"
      },
      "source": [
        "examine=\"The TV has bad video quality\"\n",
        "print(clf.predict([examine]))"
      ],
      "execution_count": 62,
      "outputs": [
        {
          "output_type": "stream",
          "text": [
            "['Negative']\n"
          ],
          "name": "stdout"
        }
      ]
    },
    {
      "cell_type": "code",
      "metadata": {
        "id": "h4hOZICZz4C3",
        "colab": {
          "base_uri": "https://localhost:8080/"
        },
        "outputId": "230b6050-0d98-4c0f-b5e8-4aea2fdbc855"
      },
      "source": [
        "clf"
      ],
      "execution_count": 56,
      "outputs": [
        {
          "output_type": "execute_result",
          "data": {
            "text/plain": [
              "Pipeline(memory=None,\n",
              "         steps=[('tfidf',\n",
              "                 TfidfVectorizer(analyzer='word', binary=False,\n",
              "                                 decode_error='strict',\n",
              "                                 dtype=<class 'numpy.float64'>,\n",
              "                                 encoding='utf-8', input='content',\n",
              "                                 lowercase=True, max_df=1.0, max_features=None,\n",
              "                                 min_df=1, ngram_range=(1, 1), norm='l2',\n",
              "                                 preprocessor=None, smooth_idf=True,\n",
              "                                 stop_words=None, strip_accents=None,\n",
              "                                 sublinear_tf=False,\n",
              "                                 token_pattern='(?u)\\\\b\\\\w\\\\w+\\\\b',\n",
              "                                 tokenizer=<function text_cleaning at 0x7fc1e60130e0>,\n",
              "                                 use_idf=True, vocabulary=None)),\n",
              "                ('clf',\n",
              "                 MultinomialNB(alpha=1.0, class_prior=None, fit_prior=True))],\n",
              "         verbose=False)"
            ]
          },
          "metadata": {
            "tags": []
          },
          "execution_count": 56
        }
      ]
    },
    {
      "cell_type": "markdown",
      "metadata": {
        "id": "U0IAIsflZFoa"
      },
      "source": [
        "## **Streamlit Web app DEPLOY**"
      ]
    },
    {
      "cell_type": "code",
      "metadata": {
        "colab": {
          "base_uri": "https://localhost:8080/"
        },
        "id": "W8A9FNyM9dGb",
        "outputId": "d855268a-e7cf-4625-8d0d-9b879617e763"
      },
      "source": [
        "import joblib\n",
        "joblib.dump(clf,'Sentia')\n"
      ],
      "execution_count": 65,
      "outputs": [
        {
          "output_type": "execute_result",
          "data": {
            "text/plain": [
              "['Sentia']"
            ]
          },
          "metadata": {
            "tags": []
          },
          "execution_count": 65
        }
      ]
    },
    {
      "cell_type": "code",
      "metadata": {
        "id": "q5ZAm0T695S3"
      },
      "source": [
        "model21 = joblib.load('/content/Sentia')"
      ],
      "execution_count": 66,
      "outputs": []
    },
    {
      "cell_type": "code",
      "metadata": {
        "id": "ffvwTX8yhliM",
        "colab": {
          "base_uri": "https://localhost:8080/"
        },
        "outputId": "e6d0975e-8471-4463-b856-30693016eb70"
      },
      "source": [
        "!pip install streamlit --quiet\n",
        "!pip install pyngrok==4.1.1 --quiet\n"
      ],
      "execution_count": 67,
      "outputs": [
        {
          "output_type": "stream",
          "text": [
            "\u001b[K     |████████████████████████████████| 8.2MB 10.7MB/s \n",
            "\u001b[K     |████████████████████████████████| 112kB 55.3MB/s \n",
            "\u001b[K     |████████████████████████████████| 163kB 43.7MB/s \n",
            "\u001b[K     |████████████████████████████████| 81kB 9.1MB/s \n",
            "\u001b[K     |████████████████████████████████| 4.2MB 47.1MB/s \n",
            "\u001b[K     |████████████████████████████████| 71kB 8.7MB/s \n",
            "\u001b[K     |████████████████████████████████| 122kB 51.9MB/s \n",
            "\u001b[?25h  Building wheel for blinker (setup.py) ... \u001b[?25l\u001b[?25hdone\n",
            "\u001b[31mERROR: google-colab 1.0.0 has requirement ipykernel~=4.10, but you'll have ipykernel 5.5.4 which is incompatible.\u001b[0m\n",
            "  Building wheel for pyngrok (setup.py) ... \u001b[?25l\u001b[?25hdone\n"
          ],
          "name": "stdout"
        }
      ]
    },
    {
      "cell_type": "code",
      "metadata": {
        "id": "mACpi-xoj7e1"
      },
      "source": [
        "from pyngrok import ngrok\n",
        "import joblib"
      ],
      "execution_count": 74,
      "outputs": []
    },
    {
      "cell_type": "code",
      "metadata": {
        "id": "1uCjtBWMFF2K",
        "colab": {
          "base_uri": "https://localhost:8080/"
        },
        "outputId": "b73a8734-1263-4071-d5ec-bfa32e4cb3d8"
      },
      "source": [
        "model21.predict([\"I recommend this pc for its high performance\"])"
      ],
      "execution_count": 71,
      "outputs": [
        {
          "output_type": "execute_result",
          "data": {
            "text/plain": [
              "array(['Positive'], dtype='<U8')"
            ]
          },
          "metadata": {
            "tags": []
          },
          "execution_count": 71
        }
      ]
    },
    {
      "cell_type": "code",
      "metadata": {
        "id": "dM1VblUFhcE3",
        "colab": {
          "base_uri": "https://localhost:8080/"
        },
        "outputId": "f2ca099a-6752-4656-de3a-26c9bfbe8768"
      },
      "source": [
        "%%writefile app.py\n",
        "import streamlit as st\n",
        "import sklearn\n",
        "import joblib\n",
        "import spacy\n",
        "import string\n",
        "from spacy.lang.en.stop_words import STOP_WORDS\n",
        "stopwords= list(STOP_WORDS)\n",
        "nlp= spacy.load('en_core_web_sm')\n",
        "punct = string.punctuation\n",
        "def text_cleaning(vario): # accept only 1 review at a run\n",
        "  doc = nlp(vario) # calling spacy model to work on a SENTENCE \n",
        " \n",
        "  \n",
        "  tokens = [] # list of tokens\n",
        "\n",
        "  # lowering case all tokens \n",
        "  \n",
        "  for token in doc:\n",
        "\n",
        "# if root form(token) of that word is not pronoun then it is going to convert that into lowercase\n",
        "    if token.lemma_ !=\"-PRON-\":\n",
        "      temp = token.lemma_.lower().strip()\n",
        "    else:\n",
        "# If that word is proper noun,then it directly taking lower case, because there is no lemma for proper noun\n",
        "      temp = token.lower_\n",
        "    tokens.append(temp)\n",
        "\n",
        "\n",
        "\n",
        "  cleaned_tokens= [] \n",
        "  # removing all punctuation and stopword tokens  \n",
        "  for token in tokens:\n",
        "    if token not in stopwords and token not in punct:\n",
        "      cleaned_tokens.append(token)\n",
        "  return cleaned_tokens  \n",
        "model = joblib.load('/content/Sentia')\n",
        "st.title('Sentia')\n",
        "ip = st.text_input(\"Enter thoughts\")\n",
        "op = model.predict([ip])\n",
        "if st.button('Work'):\n",
        "    st.title(op[0])\n",
        "\n"
      ],
      "execution_count": 105,
      "outputs": [
        {
          "output_type": "stream",
          "text": [
            "Overwriting app.py\n"
          ],
          "name": "stdout"
        }
      ]
    },
    {
      "cell_type": "code",
      "metadata": {
        "colab": {
          "base_uri": "https://localhost:8080/"
        },
        "id": "yf_YVUFX_Q8O",
        "outputId": "0b416eda-13b7-4f68-bd0c-d0b960366e6c"
      },
      "source": [
        "!pip install pipreqs\n",
        "!pipreqs /content"
      ],
      "execution_count": 99,
      "outputs": [
        {
          "output_type": "stream",
          "text": [
            "Requirement already satisfied: pipreqs in /usr/local/lib/python3.7/dist-packages (0.4.10)\n",
            "Requirement already satisfied: docopt in /usr/local/lib/python3.7/dist-packages (from pipreqs) (0.6.2)\n",
            "Requirement already satisfied: yarg in /usr/local/lib/python3.7/dist-packages (from pipreqs) (0.1.9)\n",
            "Requirement already satisfied: requests in /usr/local/lib/python3.7/dist-packages (from yarg->pipreqs) (2.23.0)\n",
            "Requirement already satisfied: idna<3,>=2.5 in /usr/local/lib/python3.7/dist-packages (from requests->yarg->pipreqs) (2.10)\n",
            "Requirement already satisfied: chardet<4,>=3.0.2 in /usr/local/lib/python3.7/dist-packages (from requests->yarg->pipreqs) (3.0.4)\n",
            "Requirement already satisfied: urllib3!=1.25.0,!=1.25.1,<1.26,>=1.21.1 in /usr/local/lib/python3.7/dist-packages (from requests->yarg->pipreqs) (1.24.3)\n",
            "Requirement already satisfied: certifi>=2017.4.17 in /usr/local/lib/python3.7/dist-packages (from requests->yarg->pipreqs) (2020.12.5)\n",
            "WARNING: Requirements.txt already exists, use --force to overwrite it\n"
          ],
          "name": "stdout"
        }
      ]
    },
    {
      "cell_type": "code",
      "metadata": {
        "id": "k3lNvCrrjkVJ",
        "colab": {
          "base_uri": "https://localhost:8080/"
        },
        "outputId": "9b307435-8adb-4300-e48d-cbb009c41eec"
      },
      "source": [
        "!nohup streamlit run app.py &\n",
        "url = ngrok.connect(port='8501')\n",
        "print(url)\n",
        "\n"
      ],
      "execution_count": 103,
      "outputs": [
        {
          "output_type": "stream",
          "text": [
            "nohup: appending output to 'nohup.out'\n",
            "http://de158fc1fc37.ngrok.io\n"
          ],
          "name": "stdout"
        }
      ]
    },
    {
      "cell_type": "markdown",
      "metadata": {
        "id": "Ud5_fXiBe-Wv"
      },
      "source": [
        "##Webapp Demo"
      ]
    },
    {
      "cell_type": "markdown",
      "metadata": {
        "id": "3Mba5-9Bej-t"
      },
      "source": [
        "\n",
        "\n",
        "![Webapp.png](data:image/png;base64,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)\n",
        "\n"
      ]
    }
  ]
}